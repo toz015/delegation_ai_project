{
 "cells": [
  {
   "cell_type": "code",
   "execution_count": null,
   "metadata": {},
   "outputs": [
    {
     "data": {
      "application/vnd.jupyter.widget-view+json": {
       "model_id": "2fda2088e3ee42fe96652b183b6ce93e",
       "version_major": 2,
       "version_minor": 0
      },
      "text/plain": [
       "Loading checkpoint shards:   0%|          | 0/4 [00:00<?, ?it/s]"
      ]
     },
     "metadata": {},
     "output_type": "display_data"
    },
    {
     "name": "stderr",
     "output_type": "stream",
     "text": [
      "Some parameters are on the meta device because they were offloaded to the cpu and disk.\n"
     ]
    },
    {
     "name": "stdout",
     "output_type": "stream",
     "text": [
      "[DEBUG] Called generate() with API: huggingface\n",
      "********************* Searching for answers to question 0 ********************* \n",
      "==> Selecting a node...\n",
      "==> Expanding node 0...\n",
      "---- Generating one-step thought steps for node 0...\n"
     ]
    }
   ],
   "source": [
    "from argparse import Namespace\n",
    "import sys\n",
    "import os\n",
    "\n",
    "# Add the root directory (one level above rStar) to the path\n",
    "sys.path.append(os.path.abspath(\"..\"))  # assuming this script is run from project root\n",
    "\n",
    "from common.arguments import post_process_args\n",
    "from run_src import do_generate\n",
    "\n",
    "from common.arguments import post_process_args\n",
    "\n",
    "\n",
    "\n",
    "args = Namespace()\n",
    "\n",
    "# 手动设置所有字段\n",
    "args.dataset_name = \"GSM8K\"\n",
    "args.model_ckpt = \"Qwen/Qwen2-7B-Instruct\"\n",
    "args.test_json_filename = \"demo_test\"\n",
    "args.api = \"huggingface\"\n",
    "args.num_rollouts = 8\n",
    "args.note = \"notebook_test\"\n",
    "args.data_root = \"../data\"\n",
    "args.prompts_root = \"../prompts\"\n",
    "args.answer_sheets_dir = \"outputs/answer_sheets\"\n",
    "args.run_outputs_dir = \"outputs/run_outputs\"\n",
    "args.run_outputs_root = args.run_outputs_dir\n",
    "args.eval_outputs_root = args.run_outputs_dir\n",
    "args.start_idx = 0\n",
    "args.end_idx = 2\n",
    "args.seed = 42\n",
    "args.model_parallel = False\n",
    "args.tensor_parallel_size = 1\n",
    "args.half_precision = True\n",
    "args.verbose = True\n",
    "args.temperature = 0.8\n",
    "args.top_k = 40\n",
    "args.top_p = 0.95\n",
    "args.max_tokens = 256\n",
    "\n",
    "args.num_subquestions = 1         # 子问题采样次数（用于 A1 生成）\n",
    "args.num_votes = 2             # 每个问题投票次数（用于 A2/A3）\n",
    "args.max_depth_allowed = 1        # MCTS 树最大深度\n",
    "args.num_a1_steps = None          # A1 步数（None 代表默认）\n",
    "args.disable_a1 = False           # 是否禁用 A1\n",
    "args.disable_a5 = False           # 是否禁用 A5\n",
    "args.modify_prompts_for_rephrasing = False\n",
    "args.enable_potential_score = False\n",
    "args.save_tree = False\n",
    "args.mcts_discount_factor = 1.0\n",
    "args.mcts_exploration_weight = 2.0\n",
    "args.mcts_weight_scheduler = \"const\"\n",
    "args.mcts_num_last_votes = None\n",
    "\n",
    "args.decompose_template_path = os.path.join(args.prompts_root, \"GSM8K\", \"decompose\", \"decompose_template.json\")\n",
    "args.decompose_prompt_path = os.path.join(args.prompts_root, \"GSM8K\", \"decompose\", \"decompose_prompt.txt\")\n",
    "args.decompose_prompt_rephrased_path = os.path.join(args.prompts_root, \"GSM8K\", \"decompose\", \"decompose_prompt_rephrased.txt\")\n",
    "\n",
    "args.fewshot_cot_prompt_path = os.path.join(args.prompts_root, \"GSM8K\", \"fewshot_cot\", \"fewshot_cot_prompt.txt\")\n",
    "args.fewshot_cot_config_path = os.path.join(args.prompts_root, \"GSM8K\", \"fewshot_cot\", \"fewshot_cot_config.json\")\n",
    "\n",
    "args.fewshot_ost_prompt_path = os.path.join(args.prompts_root, \"GSM8K\", \"fewshot_ost\", \"fewshot_ost_prompt.txt\")\n",
    "args.fewshot_ost_config_path = os.path.join(args.prompts_root, \"GSM8K\", \"fewshot_ost\", \"fewshot_ost_config.json\")\n",
    "\n",
    "args.rephrasing_prompt_template_path = os.path.join(args.prompts_root, \"GSM8K\", \"rephrasing_prompt_template.txt\")\n",
    "args.fewshot_cot_prompt_rephrased_path = args.fewshot_cot_prompt_path\n",
    "args.fewshot_ost_prompt_rephrased_path = args.fewshot_ost_prompt_path\n",
    "\n",
    "\n",
    "args = post_process_args(args)\n",
    "do_generate.main(args)"
   ]
  },
  {
   "cell_type": "code",
   "execution_count": 10,
   "metadata": {},
   "outputs": [
    {
     "name": "stdout",
     "output_type": "stream",
     "text": [
      "✅ Valid path: ../prompts/GSM8K/decompose/decompose_template.json\n"
     ]
    }
   ],
   "source": [
    "import os\n",
    "\n",
    "path = \"../prompts/GSM8K/decompose/decompose_template.json\"\n",
    "\n",
    "if os.path.exists(path):\n",
    "    print(f\"✅ Valid path: {path}\")\n",
    "else:\n",
    "    print(f\"❌ File not found: {path}\")\n"
   ]
  },
  {
   "cell_type": "code",
   "execution_count": 4,
   "metadata": {},
   "outputs": [
    {
     "name": "stdout",
     "output_type": "stream",
     "text": [
      "📁 Current working directory (root path): /home/wanghd/restore/delegation_ai_project/rStar/run_src\n"
     ]
    }
   ],
   "source": [
    "import os\n",
    "\n",
    "print(\"📁 Current working directory (root path):\", os.getcwd())\n"
   ]
  },
  {
   "cell_type": "code",
   "execution_count": 13,
   "metadata": {},
   "outputs": [
    {
     "ename": "NameError",
     "evalue": "name '__file__' is not defined",
     "output_type": "error",
     "traceback": [
      "\u001b[0;31m---------------------------------------------------------------------------\u001b[0m",
      "\u001b[0;31mNameError\u001b[0m                                 Traceback (most recent call last)",
      "Cell \u001b[0;32mIn[13], line 7\u001b[0m\n\u001b[1;32m      3\u001b[0m \u001b[38;5;28;01mfrom\u001b[39;00m\u001b[38;5;250m \u001b[39m\u001b[38;5;21;01margparse\u001b[39;00m\u001b[38;5;250m \u001b[39m\u001b[38;5;28;01mimport\u001b[39;00m Namespace\n\u001b[1;32m      5\u001b[0m \u001b[38;5;66;03m# ---- Add this code block ----\u001b[39;00m\n\u001b[1;32m      6\u001b[0m \u001b[38;5;66;03m# Get the absolute path of the project's root directory\u001b[39;00m\n\u001b[0;32m----> 7\u001b[0m project_root \u001b[38;5;241m=\u001b[39m os\u001b[38;5;241m.\u001b[39mpath\u001b[38;5;241m.\u001b[39mabspath(os\u001b[38;5;241m.\u001b[39mpath\u001b[38;5;241m.\u001b[39mjoin(os\u001b[38;5;241m.\u001b[39mpath\u001b[38;5;241m.\u001b[39mdirname(\u001b[38;5;18;43m__file__\u001b[39;49m), \u001b[38;5;124m\"\u001b[39m\u001b[38;5;124m..\u001b[39m\u001b[38;5;124m\"\u001b[39m))\n\u001b[1;32m      8\u001b[0m \u001b[38;5;66;03m# Add the project root to the Python path\u001b[39;00m\n\u001b[1;32m      9\u001b[0m \u001b[38;5;28;01mif\u001b[39;00m project_root \u001b[38;5;129;01mnot\u001b[39;00m \u001b[38;5;129;01min\u001b[39;00m sys\u001b[38;5;241m.\u001b[39mpath:\n",
      "\u001b[0;31mNameError\u001b[0m: name '__file__' is not defined"
     ]
    }
   ],
   "source": [
    "import sys\n",
    "import os\n",
    "from argparse import Namespace\n",
    "\n",
    "# ---- Add this code block ----\n",
    "# Get the absolute path of the project's root directory\n",
    "project_root = os.path.abspath(os.path.join(os.path.dirname(__file__), \"..\"))\n",
    "# Add the project root to the Python path\n",
    "if project_root not in sys.path:\n",
    "    sys.path.insert(0, project_root)\n",
    "# -----------------------------\n",
    "import do_discriminate \n",
    "\n",
    "args = Namespace()\n",
    "\n",
    "# --- Required arguments ---\n",
    "args.note = \"notebook_test\"\n",
    "args.seed = 42\n",
    "args.api = \"huggingface\"\n",
    "args.model_ckpt = \"Qwen/Qwen2-7B-Instruct\"\n",
    "args.root_dir = \"outputs/run_outputs/GSM8K/Qwen1.5-0.5B\"  \n",
    "args.dataset_name = \"GSM8K\"\n",
    "args.resume = None  # or a previous exp_id string like \"dis_2025-07-14_15-30-00---notebook_test\"\n",
    "\n",
    "args.threshold = 0.999\n",
    "\n",
    "# vLLM-specific\n",
    "args.max_num_seqs = 256\n",
    "\n",
    "# Multi-choice (if needed)\n",
    "args.multi_choice_prompt_type = None\n",
    "\n",
    "# Reasoning consistency\n",
    "args.mask_left_boundary = 0.2\n",
    "args.mask_right_boundary = 0.5\n",
    "args.num_masked_solution_traces = 4\n",
    "args.rc_mode = \"mid\"  # [\"loose\", \"mid\", \"strict\", \"maj\"]\n",
    "args.rc_temperature = 1.0\n",
    "args.rc_n_completions = 1\n",
    "args.rc_criteria = \"reward\"  # or \"freq\"\n",
    "\n",
    "# Optional slicing of input set\n",
    "args.cutoff_rollout = -1\n",
    "args.start_idx = -1\n",
    "args.end_idx = -1\n",
    "\n",
    "# --- Derived paths (as in do_discriminate.py) ---\n",
    "args.fewshot_config_path = os.path.join(\"prompts\", args.dataset_name, \"fewshot_cot\", \"fewshot_cot_config.json\")\n",
    "args.fewshot_prompt_path = os.path.join(\"prompts\", args.dataset_name, \"fewshot_cot\", \"fewshot_cot_prompt.txt\")\n"
   ]
  },
  {
   "cell_type": "code",
   "execution_count": null,
   "metadata": {},
   "outputs": [
    {
     "name": "stdout",
     "output_type": "stream",
     "text": [
      "\n",
      "--- 检查 'common' 包来源 ---\n",
      "✅ 成功导入了 'common' 包。\n",
      "它位于: /home/wanghd/.local/lib/python3.10/site-packages/common/__init__.py\n",
      "-----------------------------\n",
      "\n",
      "❌ 导入失败: cannot import name 'utils' from 'common' (/home/wanghd/.local/lib/python3.10/site-packages/common/__init__.py)\n",
      "请仔细检查：\n",
      "1. 项目根目录是否正确添加到了 sys.path？\n",
      "2. 在项目根目录下，是否存在 'common' 文件夹？\n",
      "3. 在 'common' 文件夹下，是否存在你想导入的 .py 文件（比如 'utils.py'）？\n"
     ]
    }
   ],
   "source": []
  }
 ],
 "metadata": {
  "kernelspec": {
   "display_name": "Python (myenv)",
   "language": "python",
   "name": "myenv"
  },
  "language_info": {
   "codemirror_mode": {
    "name": "ipython",
    "version": 3
   },
   "file_extension": ".py",
   "mimetype": "text/x-python",
   "name": "python",
   "nbconvert_exporter": "python",
   "pygments_lexer": "ipython3",
   "version": "3.10.12"
  }
 },
 "nbformat": 4,
 "nbformat_minor": 2
}
